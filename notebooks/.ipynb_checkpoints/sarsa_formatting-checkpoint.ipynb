{
 "cells": [
  {
   "cell_type": "code",
   "execution_count": 1,
   "metadata": {},
   "outputs": [],
   "source": [
    "import pandas as pd\n",
    "import numpy as np\n",
    "from loguru import logger\n",
    "import torch\n",
    "import random\n",
    "from creme import utils\n",
    "from torch.autograd import Variable"
   ]
  },
  {
   "cell_type": "code",
   "execution_count": 2,
   "metadata": {},
   "outputs": [],
   "source": [
    "import math\n",
    "from torch import nn\n",
    "import torch.nn.functional as F\n",
    "from loguru import logger"
   ]
  },
  {
   "cell_type": "code",
   "execution_count": 3,
   "metadata": {},
   "outputs": [],
   "source": [
    "sarsa_frame = pd.DataFrame({\n",
    "    \"state\": [np.random.uniform(size=(1, 34)) for x in range(10)],\n",
    "    \"action\": [np.array([random.randint(0, 2), random.uniform(0, 1)]) for x in range(10)],\n",
    "    \"reward\": [random.uniform(0, 100) for x in range(10)],\n",
    "})"
   ]
  },
  {
   "cell_type": "code",
   "execution_count": 4,
   "metadata": {},
   "outputs": [],
   "source": [
    "loss_frame = pd.DataFrame({\n",
    "    \"reward_hat\": [random.uniform(0, 100) for x in range(10)],\n",
    "    \"reward\": [random.uniform(0, 100) for x in range(10)],\n",
    "})"
   ]
  },
  {
   "cell_type": "code",
   "execution_count": 5,
   "metadata": {},
   "outputs": [],
   "source": [
    "prediction_frame = pd.DataFrame({\n",
    "    \"state\": [np.random.uniform(size=(1, 34)) for x in range(10)],\n",
    "    \"action\": [np.array([random.randint(0, 2), random.uniform(0, 1)]) for x in range(10)],\n",
    "})"
   ]
  },
  {
   "cell_type": "code",
   "execution_count": 6,
   "metadata": {},
   "outputs": [
    {
     "data": {
      "text/html": [
       "<div>\n",
       "<style scoped>\n",
       "    .dataframe tbody tr th:only-of-type {\n",
       "        vertical-align: middle;\n",
       "    }\n",
       "\n",
       "    .dataframe tbody tr th {\n",
       "        vertical-align: top;\n",
       "    }\n",
       "\n",
       "    .dataframe thead th {\n",
       "        text-align: right;\n",
       "    }\n",
       "</style>\n",
       "<table border=\"1\" class=\"dataframe\">\n",
       "  <thead>\n",
       "    <tr style=\"text-align: right;\">\n",
       "      <th></th>\n",
       "      <th>reward_hat</th>\n",
       "      <th>reward</th>\n",
       "    </tr>\n",
       "  </thead>\n",
       "  <tbody>\n",
       "    <tr>\n",
       "      <th>0</th>\n",
       "      <td>90.083318</td>\n",
       "      <td>8.553471</td>\n",
       "    </tr>\n",
       "    <tr>\n",
       "      <th>1</th>\n",
       "      <td>72.243942</td>\n",
       "      <td>5.524772</td>\n",
       "    </tr>\n",
       "    <tr>\n",
       "      <th>2</th>\n",
       "      <td>92.082176</td>\n",
       "      <td>49.882096</td>\n",
       "    </tr>\n",
       "    <tr>\n",
       "      <th>3</th>\n",
       "      <td>92.845944</td>\n",
       "      <td>85.445681</td>\n",
       "    </tr>\n",
       "    <tr>\n",
       "      <th>4</th>\n",
       "      <td>28.382103</td>\n",
       "      <td>39.459658</td>\n",
       "    </tr>\n",
       "    <tr>\n",
       "      <th>5</th>\n",
       "      <td>22.780694</td>\n",
       "      <td>31.145685</td>\n",
       "    </tr>\n",
       "    <tr>\n",
       "      <th>6</th>\n",
       "      <td>99.686950</td>\n",
       "      <td>12.982061</td>\n",
       "    </tr>\n",
       "    <tr>\n",
       "      <th>7</th>\n",
       "      <td>18.362692</td>\n",
       "      <td>9.395369</td>\n",
       "    </tr>\n",
       "    <tr>\n",
       "      <th>8</th>\n",
       "      <td>81.874773</td>\n",
       "      <td>18.665016</td>\n",
       "    </tr>\n",
       "    <tr>\n",
       "      <th>9</th>\n",
       "      <td>83.417835</td>\n",
       "      <td>54.672237</td>\n",
       "    </tr>\n",
       "  </tbody>\n",
       "</table>\n",
       "</div>"
      ],
      "text/plain": [
       "   reward_hat     reward\n",
       "0   90.083318   8.553471\n",
       "1   72.243942   5.524772\n",
       "2   92.082176  49.882096\n",
       "3   92.845944  85.445681\n",
       "4   28.382103  39.459658\n",
       "5   22.780694  31.145685\n",
       "6   99.686950  12.982061\n",
       "7   18.362692   9.395369\n",
       "8   81.874773  18.665016\n",
       "9   83.417835  54.672237"
      ]
     },
     "execution_count": 6,
     "metadata": {},
     "output_type": "execute_result"
    }
   ],
   "source": [
    "loss_frame"
   ]
  },
  {
   "cell_type": "code",
   "execution_count": 7,
   "metadata": {},
   "outputs": [
    {
     "data": {
      "text/html": [
       "<div>\n",
       "<style scoped>\n",
       "    .dataframe tbody tr th:only-of-type {\n",
       "        vertical-align: middle;\n",
       "    }\n",
       "\n",
       "    .dataframe tbody tr th {\n",
       "        vertical-align: top;\n",
       "    }\n",
       "\n",
       "    .dataframe thead th {\n",
       "        text-align: right;\n",
       "    }\n",
       "</style>\n",
       "<table border=\"1\" class=\"dataframe\">\n",
       "  <thead>\n",
       "    <tr style=\"text-align: right;\">\n",
       "      <th></th>\n",
       "      <th>state</th>\n",
       "      <th>action</th>\n",
       "      <th>reward</th>\n",
       "    </tr>\n",
       "  </thead>\n",
       "  <tbody>\n",
       "    <tr>\n",
       "      <th>0</th>\n",
       "      <td>[[0.5469649930347463, 0.34557819127701916, 0.7...</td>\n",
       "      <td>[0.0, 0.6088514671258236]</td>\n",
       "      <td>89.857153</td>\n",
       "    </tr>\n",
       "    <tr>\n",
       "      <th>1</th>\n",
       "      <td>[[0.018427252349868528, 0.9847573885495392, 0....</td>\n",
       "      <td>[2.0, 0.41370929877425944]</td>\n",
       "      <td>42.467335</td>\n",
       "    </tr>\n",
       "    <tr>\n",
       "      <th>2</th>\n",
       "      <td>[[0.4565701830232022, 0.6528485240346409, 0.40...</td>\n",
       "      <td>[0.0, 0.25727442881168183]</td>\n",
       "      <td>0.286240</td>\n",
       "    </tr>\n",
       "    <tr>\n",
       "      <th>3</th>\n",
       "      <td>[[0.6893865368979512, 0.9237895398209094, 0.70...</td>\n",
       "      <td>[1.0, 0.9617725482372111]</td>\n",
       "      <td>65.347457</td>\n",
       "    </tr>\n",
       "    <tr>\n",
       "      <th>4</th>\n",
       "      <td>[[0.0031736393497587834, 0.8433774081312341, 0...</td>\n",
       "      <td>[0.0, 0.5652516928110436]</td>\n",
       "      <td>70.111248</td>\n",
       "    </tr>\n",
       "    <tr>\n",
       "      <th>5</th>\n",
       "      <td>[[0.28686701386724, 0.5340788317986376, 0.9295...</td>\n",
       "      <td>[0.0, 0.800461228278516]</td>\n",
       "      <td>73.173202</td>\n",
       "    </tr>\n",
       "    <tr>\n",
       "      <th>6</th>\n",
       "      <td>[[0.4396440672567813, 0.24486094213544274, 0.1...</td>\n",
       "      <td>[1.0, 0.9718301808990636]</td>\n",
       "      <td>93.041580</td>\n",
       "    </tr>\n",
       "    <tr>\n",
       "      <th>7</th>\n",
       "      <td>[[0.035089443825667255, 0.9597712091909386, 0....</td>\n",
       "      <td>[0.0, 0.9110745152539236]</td>\n",
       "      <td>71.975529</td>\n",
       "    </tr>\n",
       "    <tr>\n",
       "      <th>8</th>\n",
       "      <td>[[0.3001283225072773, 0.879137409907724, 0.631...</td>\n",
       "      <td>[2.0, 0.5825325633380334]</td>\n",
       "      <td>94.268932</td>\n",
       "    </tr>\n",
       "    <tr>\n",
       "      <th>9</th>\n",
       "      <td>[[0.2542767568132376, 0.8336136192354718, 0.41...</td>\n",
       "      <td>[0.0, 0.9294824846994743]</td>\n",
       "      <td>43.169529</td>\n",
       "    </tr>\n",
       "  </tbody>\n",
       "</table>\n",
       "</div>"
      ],
      "text/plain": [
       "                                               state  \\\n",
       "0  [[0.5469649930347463, 0.34557819127701916, 0.7...   \n",
       "1  [[0.018427252349868528, 0.9847573885495392, 0....   \n",
       "2  [[0.4565701830232022, 0.6528485240346409, 0.40...   \n",
       "3  [[0.6893865368979512, 0.9237895398209094, 0.70...   \n",
       "4  [[0.0031736393497587834, 0.8433774081312341, 0...   \n",
       "5  [[0.28686701386724, 0.5340788317986376, 0.9295...   \n",
       "6  [[0.4396440672567813, 0.24486094213544274, 0.1...   \n",
       "7  [[0.035089443825667255, 0.9597712091909386, 0....   \n",
       "8  [[0.3001283225072773, 0.879137409907724, 0.631...   \n",
       "9  [[0.2542767568132376, 0.8336136192354718, 0.41...   \n",
       "\n",
       "                       action     reward  \n",
       "0   [0.0, 0.6088514671258236]  89.857153  \n",
       "1  [2.0, 0.41370929877425944]  42.467335  \n",
       "2  [0.0, 0.25727442881168183]   0.286240  \n",
       "3   [1.0, 0.9617725482372111]  65.347457  \n",
       "4   [0.0, 0.5652516928110436]  70.111248  \n",
       "5    [0.0, 0.800461228278516]  73.173202  \n",
       "6   [1.0, 0.9718301808990636]  93.041580  \n",
       "7   [0.0, 0.9110745152539236]  71.975529  \n",
       "8   [2.0, 0.5825325633380334]  94.268932  \n",
       "9   [0.0, 0.9294824846994743]  43.169529  "
      ]
     },
     "execution_count": 7,
     "metadata": {},
     "output_type": "execute_result"
    }
   ],
   "source": [
    "sarsa_frame"
   ]
  },
  {
   "cell_type": "code",
   "execution_count": 8,
   "metadata": {},
   "outputs": [
    {
     "data": {
      "text/html": [
       "<div>\n",
       "<style scoped>\n",
       "    .dataframe tbody tr th:only-of-type {\n",
       "        vertical-align: middle;\n",
       "    }\n",
       "\n",
       "    .dataframe tbody tr th {\n",
       "        vertical-align: top;\n",
       "    }\n",
       "\n",
       "    .dataframe thead th {\n",
       "        text-align: right;\n",
       "    }\n",
       "</style>\n",
       "<table border=\"1\" class=\"dataframe\">\n",
       "  <thead>\n",
       "    <tr style=\"text-align: right;\">\n",
       "      <th></th>\n",
       "      <th>state</th>\n",
       "      <th>action</th>\n",
       "    </tr>\n",
       "  </thead>\n",
       "  <tbody>\n",
       "    <tr>\n",
       "      <th>0</th>\n",
       "      <td>[[0.9321896405860199, 0.2090376845478461, 0.30...</td>\n",
       "      <td>[2.0, 0.7451409696663028]</td>\n",
       "    </tr>\n",
       "    <tr>\n",
       "      <th>1</th>\n",
       "      <td>[[0.669969573300711, 0.21918374692935216, 0.30...</td>\n",
       "      <td>[2.0, 0.4336799577129017]</td>\n",
       "    </tr>\n",
       "    <tr>\n",
       "      <th>2</th>\n",
       "      <td>[[0.26756694632039923, 0.17451233510070907, 0....</td>\n",
       "      <td>[1.0, 0.021396058979906152]</td>\n",
       "    </tr>\n",
       "    <tr>\n",
       "      <th>3</th>\n",
       "      <td>[[0.4315431330994898, 0.8750624140959447, 0.67...</td>\n",
       "      <td>[2.0, 0.8765005069050824]</td>\n",
       "    </tr>\n",
       "    <tr>\n",
       "      <th>4</th>\n",
       "      <td>[[0.44229514384623825, 0.22235317024128853, 0....</td>\n",
       "      <td>[1.0, 0.5341199625132242]</td>\n",
       "    </tr>\n",
       "    <tr>\n",
       "      <th>5</th>\n",
       "      <td>[[0.8323055793703098, 0.26318446551648245, 0.8...</td>\n",
       "      <td>[1.0, 0.9552905394892822]</td>\n",
       "    </tr>\n",
       "    <tr>\n",
       "      <th>6</th>\n",
       "      <td>[[0.9739394656640668, 0.755013992433295, 0.100...</td>\n",
       "      <td>[1.0, 0.0663412472763314]</td>\n",
       "    </tr>\n",
       "    <tr>\n",
       "      <th>7</th>\n",
       "      <td>[[0.6724519668389645, 0.7129238364138337, 0.41...</td>\n",
       "      <td>[2.0, 0.27321508984929455]</td>\n",
       "    </tr>\n",
       "    <tr>\n",
       "      <th>8</th>\n",
       "      <td>[[0.19848761811581306, 0.19883483863690965, 0....</td>\n",
       "      <td>[1.0, 0.22846359511182657]</td>\n",
       "    </tr>\n",
       "    <tr>\n",
       "      <th>9</th>\n",
       "      <td>[[0.505924791560785, 0.5236816069685634, 0.631...</td>\n",
       "      <td>[2.0, 0.04236716852257205]</td>\n",
       "    </tr>\n",
       "  </tbody>\n",
       "</table>\n",
       "</div>"
      ],
      "text/plain": [
       "                                               state  \\\n",
       "0  [[0.9321896405860199, 0.2090376845478461, 0.30...   \n",
       "1  [[0.669969573300711, 0.21918374692935216, 0.30...   \n",
       "2  [[0.26756694632039923, 0.17451233510070907, 0....   \n",
       "3  [[0.4315431330994898, 0.8750624140959447, 0.67...   \n",
       "4  [[0.44229514384623825, 0.22235317024128853, 0....   \n",
       "5  [[0.8323055793703098, 0.26318446551648245, 0.8...   \n",
       "6  [[0.9739394656640668, 0.755013992433295, 0.100...   \n",
       "7  [[0.6724519668389645, 0.7129238364138337, 0.41...   \n",
       "8  [[0.19848761811581306, 0.19883483863690965, 0....   \n",
       "9  [[0.505924791560785, 0.5236816069685634, 0.631...   \n",
       "\n",
       "                        action  \n",
       "0    [2.0, 0.7451409696663028]  \n",
       "1    [2.0, 0.4336799577129017]  \n",
       "2  [1.0, 0.021396058979906152]  \n",
       "3    [2.0, 0.8765005069050824]  \n",
       "4    [1.0, 0.5341199625132242]  \n",
       "5    [1.0, 0.9552905394892822]  \n",
       "6    [1.0, 0.0663412472763314]  \n",
       "7   [2.0, 0.27321508984929455]  \n",
       "8   [1.0, 0.22846359511182657]  \n",
       "9   [2.0, 0.04236716852257205]  "
      ]
     },
     "execution_count": 8,
     "metadata": {},
     "output_type": "execute_result"
    }
   ],
   "source": [
    "prediction_frame"
   ]
  },
  {
   "cell_type": "code",
   "execution_count": 9,
   "metadata": {},
   "outputs": [],
   "source": [
    "def squared_reshape(arr:np.array):\n",
    "  \"\"\" \n",
    "    Dynamically reshapes the array to a square. \n",
    "    It adds zero to certain locations if the number of assets isn't a perfect square.\n",
    "  \"\"\"\n",
    "  sqr = np.sqrt(arr.size)\n",
    "  sqr_int = sqr.astype(int)\n",
    "\n",
    "  if sqr != sqr_int:\n",
    "    sqr_int += 1\n",
    "  y = np.resize(arr, (sqr_int, sqr_int))\n",
    "  return y"
   ]
  },
  {
   "cell_type": "code",
   "execution_count": 10,
   "metadata": {},
   "outputs": [],
   "source": [
    "def loss_split(frame:pd.DataFrame, y_name=\"reward\", y_hat_name=\"reward_hat\"):\n",
    "  _y = frame[y_name].to_numpy()\n",
    "  _y_hat = frame[y_hat_name].to_numpy()\n",
    "  return _y, _y_hat"
   ]
  },
  {
   "cell_type": "code",
   "execution_count": 11,
   "metadata": {},
   "outputs": [],
   "source": [
    "def sa_split(frame:pd.DataFrame, state_name:str=\"state\", action_name:str=\"action\",):\n",
    "  \"\"\" Get a state action pair the RL agent. Use to get stacked sequence of decisions and their associated states.\"\"\"\n",
    "  X_s = []\n",
    "  for row in frame.iterrows():\n",
    "    _states =  np.array(row[1][state_name]).reshape(-1)\n",
    "    _actions = np.array(row[1][action_name]).reshape(-1)\n",
    "    _combined = np.hstack((_states, _actions))\n",
    "    \n",
    "    X_s.append(_combined)\n",
    "  return np.array(X_s)"
   ]
  },
  {
   "cell_type": "code",
   "execution_count": 12,
   "metadata": {},
   "outputs": [],
   "source": [
    "def sarsa_split(frame:pd.DataFrame, state_name:str=\"state\", action_name:str=\"action\", reward_name:str=\"reward\"):\n",
    "  \"\"\"Split the sarsa\"\"\"\n",
    "  X_s = []\n",
    "  Y_s = []\n",
    "  for row in frame.iterrows():\n",
    "    _states =  np.array(row[1][state_name]).reshape(-1)\n",
    "    _actions = np.array(row[1][action_name]).reshape(-1)\n",
    "    _rewards = np.array(row[1][reward_name])\n",
    "    _combined = squared_reshape(np.hstack((_states, _actions)))\n",
    "    Y_s.append(_combined)\n",
    "    X_s.append(_combined)\n",
    "    \n",
    "  return X_s, np.array(Y_s)"
   ]
  },
  {
   "cell_type": "code",
   "execution_count": 13,
   "metadata": {},
   "outputs": [],
   "source": [
    "def window_stack(a, stepsize=1, width=3):\n",
    "    n = a.shape[0]\n",
    "    return np.stack( a[i:1+n+i-width:stepsize] for i in range(0,width))"
   ]
  },
  {
   "cell_type": "code",
   "execution_count": 14,
   "metadata": {},
   "outputs": [],
   "source": [
    "def experiment_window_stack(a, stepsize=1, width=3):\n",
    "    n = a.shape[0]\n",
    "    return np.stack( a[i:1+n+i-width:stepsize] for i in range(0,width))"
   ]
  },
  {
   "cell_type": "code",
   "execution_count": 15,
   "metadata": {},
   "outputs": [
    {
     "data": {
      "text/plain": [
       "(array([ 8.55347134,  5.52477176, 49.88209622, 85.4456809 , 39.45965795,\n",
       "        31.1456847 , 12.9820611 ,  9.39536884, 18.66501552, 54.67223734]),\n",
       " array([90.08331803, 72.24394232, 92.0821757 , 92.84594363, 28.38210288,\n",
       "        22.78069411, 99.6869504 , 18.36269208, 81.87477259, 83.41783461]))"
      ]
     },
     "execution_count": 15,
     "metadata": {},
     "output_type": "execute_result"
    }
   ],
   "source": [
    "loss_split(loss_frame)"
   ]
  },
  {
   "cell_type": "code",
   "execution_count": 18,
   "metadata": {},
   "outputs": [
    {
     "ename": "AttributeError",
     "evalue": "'numpy.ndarray' object has no attribute 'dstack'",
     "output_type": "error",
     "traceback": [
      "\u001b[0;31m---------------------------------------------------------------------------\u001b[0m",
      "\u001b[0;31mAttributeError\u001b[0m                            Traceback (most recent call last)",
      "\u001b[0;32m<ipython-input-18-8e497faa8f36>\u001b[0m in \u001b[0;36m<module>\u001b[0;34m\u001b[0m\n\u001b[0;32m----> 1\u001b[0;31m \u001b[0mX\u001b[0m\u001b[0;34m,\u001b[0m \u001b[0my\u001b[0m \u001b[0;34m=\u001b[0m \u001b[0msarsa_split\u001b[0m\u001b[0;34m(\u001b[0m\u001b[0msarsa_frame\u001b[0m\u001b[0;34m)\u001b[0m\u001b[0;34m\u001b[0m\u001b[0;34m\u001b[0m\u001b[0m\n\u001b[0m\u001b[1;32m      2\u001b[0m \u001b[0mX\u001b[0m\u001b[0;34m.\u001b[0m\u001b[0mshape\u001b[0m\u001b[0;34m\u001b[0m\u001b[0;34m\u001b[0m\u001b[0m\n",
      "\u001b[0;32m<ipython-input-12-9ef3de66a754>\u001b[0m in \u001b[0;36msarsa_split\u001b[0;34m(frame, state_name, action_name, reward_name)\u001b[0m\n\u001b[1;32m     12\u001b[0m         \u001b[0mX_s\u001b[0m \u001b[0;34m=\u001b[0m \u001b[0m_combined\u001b[0m\u001b[0;34m\u001b[0m\u001b[0;34m\u001b[0m\u001b[0m\n\u001b[1;32m     13\u001b[0m         \u001b[0;32mcontinue\u001b[0m\u001b[0;34m\u001b[0m\u001b[0;34m\u001b[0m\u001b[0m\n\u001b[0;32m---> 14\u001b[0;31m     \u001b[0mX_s\u001b[0m\u001b[0;34m.\u001b[0m\u001b[0mdstack\u001b[0m\u001b[0;34m(\u001b[0m\u001b[0m_combined\u001b[0m\u001b[0;34m)\u001b[0m\u001b[0;34m\u001b[0m\u001b[0;34m\u001b[0m\u001b[0m\n\u001b[0m\u001b[1;32m     15\u001b[0m \u001b[0;34m\u001b[0m\u001b[0m\n\u001b[1;32m     16\u001b[0m   \u001b[0;32mreturn\u001b[0m \u001b[0mX_s\u001b[0m\u001b[0;34m,\u001b[0m \u001b[0mnp\u001b[0m\u001b[0;34m.\u001b[0m\u001b[0marray\u001b[0m\u001b[0;34m(\u001b[0m\u001b[0mY_s\u001b[0m\u001b[0;34m)\u001b[0m\u001b[0;34m\u001b[0m\u001b[0;34m\u001b[0m\u001b[0m\n",
      "\u001b[0;31mAttributeError\u001b[0m: 'numpy.ndarray' object has no attribute 'dstack'"
     ]
    }
   ],
   "source": [
    "X, y = sarsa_split(sarsa_frame)\n",
    "X.shape"
   ]
  },
  {
   "cell_type": "code",
   "execution_count": 17,
   "metadata": {},
   "outputs": [
    {
     "ename": "NameError",
     "evalue": "name 'X' is not defined",
     "output_type": "error",
     "traceback": [
      "\u001b[0;31m---------------------------------------------------------------------------\u001b[0m",
      "\u001b[0;31mNameError\u001b[0m                                 Traceback (most recent call last)",
      "\u001b[0;32m<ipython-input-17-607e81fdbf9f>\u001b[0m in \u001b[0;36m<module>\u001b[0;34m\u001b[0m\n\u001b[0;32m----> 1\u001b[0;31m \u001b[0mstacked_x\u001b[0m \u001b[0;34m=\u001b[0m \u001b[0mnp\u001b[0m\u001b[0;34m.\u001b[0m\u001b[0mdstack\u001b[0m\u001b[0;34m(\u001b[0m\u001b[0;34m(\u001b[0m\u001b[0mX\u001b[0m\u001b[0;34m[\u001b[0m\u001b[0;36m0\u001b[0m\u001b[0;34m]\u001b[0m\u001b[0;34m,\u001b[0m \u001b[0mX\u001b[0m\u001b[0;34m[\u001b[0m\u001b[0;36m1\u001b[0m\u001b[0;34m]\u001b[0m\u001b[0;34m)\u001b[0m\u001b[0;34m)\u001b[0m\u001b[0;34m\u001b[0m\u001b[0;34m\u001b[0m\u001b[0m\n\u001b[0m",
      "\u001b[0;31mNameError\u001b[0m: name 'X' is not defined"
     ]
    }
   ],
   "source": [
    "stacked_x = np.dstack((X[0], X[1]))"
   ]
  },
  {
   "cell_type": "code",
   "execution_count": 19,
   "metadata": {},
   "outputs": [
    {
     "ename": "NameError",
     "evalue": "name 'X' is not defined",
     "output_type": "error",
     "traceback": [
      "\u001b[0;31m---------------------------------------------------------------------------\u001b[0m",
      "\u001b[0;31mNameError\u001b[0m                                 Traceback (most recent call last)",
      "\u001b[0;32m<ipython-input-19-882d60b052e1>\u001b[0m in \u001b[0;36m<module>\u001b[0;34m\u001b[0m\n\u001b[0;32m----> 1\u001b[0;31m \u001b[0mX\u001b[0m\u001b[0;34m[\u001b[0m\u001b[0;36m0\u001b[0m\u001b[0;34m]\u001b[0m\u001b[0;34m,\u001b[0m \u001b[0mX\u001b[0m\u001b[0;34m[\u001b[0m\u001b[0;36m1\u001b[0m\u001b[0;34m]\u001b[0m\u001b[0;34m\u001b[0m\u001b[0;34m\u001b[0m\u001b[0m\n\u001b[0m",
      "\u001b[0;31mNameError\u001b[0m: name 'X' is not defined"
     ]
    }
   ],
   "source": [
    "X[0], X[1]"
   ]
  },
  {
   "cell_type": "code",
   "execution_count": 20,
   "metadata": {},
   "outputs": [
    {
     "ename": "NameError",
     "evalue": "name 'stacked_x' is not defined",
     "output_type": "error",
     "traceback": [
      "\u001b[0;31m---------------------------------------------------------------------------\u001b[0m",
      "\u001b[0;31mNameError\u001b[0m                                 Traceback (most recent call last)",
      "\u001b[0;32m<ipython-input-20-78aab2f04752>\u001b[0m in \u001b[0;36m<module>\u001b[0;34m\u001b[0m\n\u001b[0;32m----> 1\u001b[0;31m \u001b[0mtorch\u001b[0m\u001b[0;34m.\u001b[0m\u001b[0mtensor\u001b[0m\u001b[0;34m(\u001b[0m\u001b[0mstacked_x\u001b[0m\u001b[0;34m)\u001b[0m\u001b[0;34m.\u001b[0m\u001b[0munsqueeze\u001b[0m\u001b[0;34m(\u001b[0m\u001b[0;36m0\u001b[0m\u001b[0;34m)\u001b[0m\u001b[0;34m.\u001b[0m\u001b[0mshape\u001b[0m\u001b[0;34m\u001b[0m\u001b[0;34m\u001b[0m\u001b[0m\n\u001b[0m",
      "\u001b[0;31mNameError\u001b[0m: name 'stacked_x' is not defined"
     ]
    }
   ],
   "source": [
    "torch.tensor(stacked_x).unsqueeze(0).shape"
   ]
  },
  {
   "cell_type": "code",
   "execution_count": 23,
   "metadata": {},
   "outputs": [],
   "source": [
    "z = [torch.randn(size=(6, 6)) for x in range(6)]"
   ]
  },
  {
   "cell_type": "code",
   "execution_count": null,
   "metadata": {},
   "outputs": [],
   "source": [
    "z"
   ]
  }
 ],
 "metadata": {
  "kernelspec": {
   "display_name": "Python 3",
   "language": "python",
   "name": "python3"
  },
  "language_info": {
   "codemirror_mode": {
    "name": "ipython",
    "version": 3
   },
   "file_extension": ".py",
   "mimetype": "text/x-python",
   "name": "python",
   "nbconvert_exporter": "python",
   "pygments_lexer": "ipython3",
   "version": "3.7.3"
  }
 },
 "nbformat": 4,
 "nbformat_minor": 4
}
