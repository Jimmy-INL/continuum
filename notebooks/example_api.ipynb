{
 "metadata": {
  "language_info": {
   "codemirror_mode": {
    "name": "ipython",
    "version": 3
   },
   "file_extension": ".py",
   "mimetype": "text/x-python",
   "name": "python",
   "nbconvert_exporter": "python",
   "pygments_lexer": "ipython3",
   "version": "3.8.5-final"
  },
  "orig_nbformat": 2,
  "kernelspec": {
   "name": "Python 3.8.5 64-bit ('continuum-oefTC2sJ-py3.8')",
   "display_name": "Python 3.8.5 64-bit ('continuum-oefTC2sJ-py3.8')",
   "metadata": {
    "interpreter": {
     "hash": "6a2f5c117bffd6eda585f711691231ff3357a27142be9ec86c414581f59cd47d"
    }
   }
  }
 },
 "nbformat": 4,
 "nbformat_minor": 2,
 "cells": [
  {
   "cell_type": "code",
   "execution_count": 28,
   "metadata": {},
   "outputs": [],
   "source": [
    "import pandas as pd\n",
    "import random as rd\n",
    "import maya as my\n",
    "import copy"
   ]
  },
  {
   "cell_type": "code",
   "execution_count": 39,
   "metadata": {},
   "outputs": [],
   "source": [
    "class YoFeed:\n",
    "    def __init__(self):\n",
    "        self.items = {}\n",
    "        self.start = my.MayaDT(tm.time())\n",
    "        self.end = my.MayaDT(tm.time()).subtract(days=10)\n",
    "\n",
    "    def config(self, items:dict={}, time:dict={}):\n",
    "        self.items = items\n",
    "        self.start = time.get(\"start\", my.MayaDT(tm.time()))\n",
    "        self.end = time.get(\"end\", my.MayaDT(tm.time()).subtract(days=1000))\n",
    "         \n",
    "        interval = time.get(\"interval\", {\"hours\": 2})\n",
    "        self.step_interval = my.MayaInterval()\n",
    "        self.time_steps = list(my.intervals(self.start, self.end, copy.deepcopy(self.step_interval)))\n",
    "        \n",
    "\n",
    "    def pull(self, live=False):\n",
    "        print(self.time_steps)"
   ]
  },
  {
   "cell_type": "code",
   "execution_count": 40,
   "metadata": {},
   "outputs": [
    {
     "output_type": "error",
     "ename": "TypeError",
     "evalue": "Expects argument as `datetime.timedelta` object or seconds in `int` format",
     "traceback": [
      "\u001b[0;31m---------------------------------------------------------------------------\u001b[0m",
      "\u001b[0;31mTypeError\u001b[0m                                 Traceback (most recent call last)",
      "\u001b[0;32m&lt;ipython-input-40-18c9c691f6f5&gt;\u001b[0m in \u001b[0;36m&lt;module&gt;\u001b[0;34m\u001b[0m\n\u001b[0;32m----&gt; 1\u001b[0;31m \u001b[0mYoFeed\u001b[0m\u001b[0;34m(\u001b[0m\u001b[0;34m)\u001b[0m\u001b[0;34m.\u001b[0m\u001b[0mconfig\u001b[0m\u001b[0;34m(\u001b[0m\u001b[0;34m)\u001b[0m\u001b[0;34m.\u001b[0m\u001b[0mpull\u001b[0m\u001b[0;34m(\u001b[0m\u001b[0;34m)\u001b[0m\u001b[0;34m\u001b[0m\u001b[0;34m\u001b[0m\u001b[0m\n\u001b[0m",
      "\u001b[0;32m&lt;ipython-input-39-9c1775de461a&gt;\u001b[0m in \u001b[0;36mconfig\u001b[0;34m(self, items, time)\u001b[0m\n\u001b[1;32m     10\u001b[0m         \u001b[0mself\u001b[0m\u001b[0;34m.\u001b[0m\u001b[0mend\u001b[0m \u001b[0;34m=\u001b[0m \u001b[0mtime\u001b[0m\u001b[0;34m.\u001b[0m\u001b[0mget\u001b[0m\u001b[0;34m(\u001b[0m\u001b[0;34m&quot;end&quot;\u001b[0m\u001b[0;34m,\u001b[0m \u001b[0mmy\u001b[0m\u001b[0;34m.\u001b[0m\u001b[0mMayaDT\u001b[0m\u001b[0;34m(\u001b[0m\u001b[0mtm\u001b[0m\u001b[0;34m.\u001b[0m\u001b[0mtime\u001b[0m\u001b[0;34m(\u001b[0m\u001b[0;34m)\u001b[0m\u001b[0;34m)\u001b[0m\u001b[0;34m.\u001b[0m\u001b[0msubtract\u001b[0m\u001b[0;34m(\u001b[0m\u001b[0mdays\u001b[0m\u001b[0;34m=\u001b[0m\u001b[0;36m1000\u001b[0m\u001b[0;34m)\u001b[0m\u001b[0;34m)\u001b[0m\u001b[0;34m\u001b[0m\u001b[0;34m\u001b[0m\u001b[0m\n\u001b[1;32m     11\u001b[0m         \u001b[0mself\u001b[0m\u001b[0;34m.\u001b[0m\u001b[0mstep_interval\u001b[0m \u001b[0;34m=\u001b[0m \u001b[0mtime\u001b[0m\u001b[0;34m.\u001b[0m\u001b[0mget\u001b[0m\u001b[0;34m(\u001b[0m\u001b[0;34m&quot;interval&quot;\u001b[0m\u001b[0;34m,\u001b[0m \u001b[0;34m{\u001b[0m\u001b[0;34m&quot;hours&quot;\u001b[0m\u001b[0;34m:\u001b[0m \u001b[0;36m2\u001b[0m\u001b[0;34m}\u001b[0m\u001b[0;34m)\u001b[0m\u001b[0;34m\u001b[0m\u001b[0;34m\u001b[0m\u001b[0m\n\u001b[0;32m---&gt; 12\u001b[0;31m         \u001b[0mself\u001b[0m\u001b[0;34m.\u001b[0m\u001b[0mtime_steps\u001b[0m \u001b[0;34m=\u001b[0m \u001b[0mlist\u001b[0m\u001b[0;34m(\u001b[0m\u001b[0mmy\u001b[0m\u001b[0;34m.\u001b[0m\u001b[0mintervals\u001b[0m\u001b[0;34m(\u001b[0m\u001b[0mself\u001b[0m\u001b[0;34m.\u001b[0m\u001b[0mstart\u001b[0m\u001b[0;34m,\u001b[0m \u001b[0mself\u001b[0m\u001b[0;34m.\u001b[0m\u001b[0mend\u001b[0m\u001b[0;34m,\u001b[0m \u001b[0mcopy\u001b[0m\u001b[0;34m.\u001b[0m\u001b[0mdeepcopy\u001b[0m\u001b[0;34m(\u001b[0m\u001b[0mself\u001b[0m\u001b[0;34m.\u001b[0m\u001b[0mstep_interval\u001b[0m\u001b[0;34m)\u001b[0m\u001b[0;34m)\u001b[0m\u001b[0;34m)\u001b[0m\u001b[0;34m\u001b[0m\u001b[0;34m\u001b[0m\u001b[0m\n\u001b[0m\u001b[1;32m     13\u001b[0m \u001b[0;34m\u001b[0m\u001b[0m\n\u001b[1;32m     14\u001b[0m \u001b[0;34m\u001b[0m\u001b[0m\n",
      "\u001b[0;32m~/Library/Caches/pypoetry/virtualenvs/continuum-oefTC2sJ-py3.8/lib/python3.8/site-packages/maya/core.py\u001b[0m in \u001b[0;36mintervals\u001b[0;34m(start, end, interval)\u001b[0m\n\u001b[1;32m    802\u001b[0m     \u001b[0mat\u001b[0m \u001b[0ma\u001b[0m \u001b[0mgiven\u001b[0m \u001b[0minterval\u001b[0m \u001b[0;34m(\u001b[0m\u001b[0mseconds\u001b[0m \u001b[0;32mor\u001b[0m \u001b[0mtimedelta\u001b[0m\u001b[0;34m)\u001b[0m\u001b[0;34m.\u001b[0m\u001b[0;34m\u001b[0m\u001b[0;34m\u001b[0m\u001b[0m\n\u001b[1;32m    803\u001b[0m     &quot;&quot;&quot;\n\u001b[0;32m--&gt; 804\u001b[0;31m     \u001b[0minterval\u001b[0m \u001b[0;34m=\u001b[0m \u001b[0m_seconds_or_timedelta\u001b[0m\u001b[0;34m(\u001b[0m\u001b[0minterval\u001b[0m\u001b[0;34m)\u001b[0m\u001b[0;34m\u001b[0m\u001b[0;34m\u001b[0m\u001b[0m\n\u001b[0m\u001b[1;32m    805\u001b[0m     \u001b[0mcurrent_timestamp\u001b[0m \u001b[0;34m=\u001b[0m \u001b[0mstart\u001b[0m\u001b[0;34m\u001b[0m\u001b[0;34m\u001b[0m\u001b[0m\n\u001b[1;32m    806\u001b[0m     \u001b[0;32mwhile\u001b[0m \u001b[0mcurrent_timestamp\u001b[0m\u001b[0;34m.\u001b[0m\u001b[0mepoch\u001b[0m \u001b[0;34m&lt;\u001b[0m \u001b[0mend\u001b[0m\u001b[0;34m.\u001b[0m\u001b[0mepoch\u001b[0m\u001b[0;34m:\u001b[0m\u001b[0;34m\u001b[0m\u001b[0;34m\u001b[0m\u001b[0m\n",
      "\u001b[0;32m~/Library/Caches/pypoetry/virtualenvs/continuum-oefTC2sJ-py3.8/lib/python3.8/site-packages/maya/core.py\u001b[0m in \u001b[0;36m_seconds_or_timedelta\u001b[0;34m(duration)\u001b[0m\n\u001b[1;32m    779\u001b[0m         \u001b[0mdt_timedelta\u001b[0m \u001b[0;34m=\u001b[0m \u001b[0mduration\u001b[0m\u001b[0;34m\u001b[0m\u001b[0;34m\u001b[0m\u001b[0m\n\u001b[1;32m    780\u001b[0m     \u001b[0;32melse\u001b[0m\u001b[0;34m:\u001b[0m\u001b[0;34m\u001b[0m\u001b[0;34m\u001b[0m\u001b[0m\n\u001b[0;32m--&gt; 781\u001b[0;31m         raise TypeError(\n\u001b[0m\u001b[1;32m    782\u001b[0m             \u001b[0;34m&#39;Expects argument as `datetime.timedelta` object &#39;\u001b[0m\u001b[0;34m\u001b[0m\u001b[0;34m\u001b[0m\u001b[0m\n\u001b[1;32m    783\u001b[0m             \u001b[0;34m&#39;or seconds in `int` format&#39;\u001b[0m\u001b[0;34m\u001b[0m\u001b[0;34m\u001b[0m\u001b[0m\n",
      "\u001b[0;31mTypeError\u001b[0m: Expects argument as `datetime.timedelta` object or seconds in `int` format"
     ]
    }
   ],
   "source": [
    "YoFeed().config().pull()"
   ]
  },
  {
   "cell_type": "code",
   "execution_count": 31,
   "metadata": {},
   "outputs": [],
   "source": [
    "z = my.MayaInterval(true_interval, y)"
   ]
  },
  {
   "cell_type": "code",
   "execution_count": 32,
   "metadata": {
    "tags": []
   },
   "outputs": [
    {
     "output_type": "stream",
     "name": "stdout",
     "text": "1600456528\n1600463728\n1600470928\n1600478128\n1600485328\n1600492528\n1600499728\n1600506928\n1600514128\n1600521328\n1600528528\n1600535728\n1600542928\n1600550128\n1600557328\n1600564528\n1600571728\n1600578928\n1600586128\n1600593328\n1600600528\n1600607728\n1600614928\n1600622128\n1600629328\n1600636528\n1600643728\n1600650928\n1600658128\n1600665328\n1600672528\n1600679728\n1600686928\n1600694128\n1600701328\n1600708528\n1600715728\n1600722928\n1600730128\n1600737328\n1600744528\n1600751728\n1600758928\n1600766128\n1600773328\n1600780528\n1600787728\n1600794928\n1600802128\n1600809328\n1600816528\n1600823728\n1600830928\n1600838128\n1600845328\n1600852528\n1600859728\n1600866928\n1600874128\n1600881328\n1600888528\n1600895728\n1600902928\n1600910128\n1600917328\n1600924528\n1600931728\n1600938928\n1600946128\n1600953328\n1600960528\n1600967728\n1600974928\n1600982128\n1600989328\n1600996528\n1601003728\n1601010928\n1601018128\n1601025328\n1601032528\n1601039728\n1601046928\n1601054128\n1601061328\n1601068528\n1601075728\n1601082928\n1601090128\n1601097328\n1601104528\n1601111728\n1601118928\n1601126128\n1601133328\n1601140528\n1601147728\n1601154928\n1601162128\n1601169328\n1601176528\n1601183728\n1601190928\n1601198128\n1601205328\n1601212528\n1601219728\n1601226928\n1601234128\n1601241328\n1601248528\n1601255728\n1601262928\n1601270128\n1601277328\n1601284528\n1601291728\n1601298928\n1601306128\n1601313328\n"
    }
   ],
   "source": [
    "for x in my.intervals(x, y, copy.deepcopy(z.timedelta)):\n",
    "    print(x.epoch)"
   ]
  },
  {
   "cell_type": "code",
   "execution_count": null,
   "metadata": {},
   "outputs": [],
   "source": []
  },
  {
   "cell_type": "code",
   "execution_count": null,
   "metadata": {},
   "outputs": [],
   "source": [
    "my.MayaInterval()"
   ]
  },
  {
   "cell_type": "code",
   "execution_count": null,
   "metadata": {},
   "outputs": [],
   "source": []
  }
 ]
}