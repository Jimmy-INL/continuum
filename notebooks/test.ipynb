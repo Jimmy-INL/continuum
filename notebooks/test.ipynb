{
 "cells": [
  {
   "cell_type": "code",
   "execution_count": 516,
   "metadata": {},
   "outputs": [
    {
     "name": "stdout",
     "output_type": "stream",
     "text": [
      "The autoreload extension is already loaded. To reload it, use:\n",
      "  %reload_ext autoreload\n"
     ]
    }
   ],
   "source": [
    "import math\n",
    "import torch\n",
    "import gpytorch\n",
    "import tensorflow as tf\n",
    "from matplotlib import pyplot as plt\n",
    "\n",
    "from torch import optim\n",
    "from gpytorch.kernels import RBFKernel, ScaleKernel\n",
    "from gpytorch.likelihoods import BernoulliLikelihood\n",
    "from gpytorch.means import ConstantMean\n",
    "from gpytorch.priors import SmoothedBoxPrior\n",
    "from gpytorch.distributions import MultivariateNormal\n",
    "from gpytorch.models import ApproximateGP\n",
    "from gpytorch.variational import AdditiveGridInterpolationVariationalStrategy, CholeskyVariationalDistribution\n",
    "%matplotlib inline\n",
    "%load_ext autoreload"
   ]
  },
  {
   "cell_type": "code",
   "execution_count": 517,
   "metadata": {},
   "outputs": [],
   "source": [
    "train_x = torch.linspace(0, 1, 10)\n",
    "# True function is sin(2*pi*x) with Gaussian noise\n",
    "train_y = torch.cos(train_x * (2 * math.pi))\n",
    "training_iter=10\n",
    "likelihood = gpytorch.likelihoods.GaussianLikelihood()"
   ]
  },
  {
   "cell_type": "code",
   "execution_count": 518,
   "metadata": {},
   "outputs": [],
   "source": [
    "class ExactGPModel(gpytorch.models.ExactGP):\n",
    "    def __init__(self, train_x, train_y, likelihood):\n",
    "        super(ExactGPModel, self).__init__(train_x, train_y, likelihood)\n",
    "        self.mean_module = gpytorch.means.ConstantMean()\n",
    "        self.covar_module = gpytorch.kernels.ScaleKernel(gpytorch.kernels.CosineKernel())\n",
    "#        self.covar_module = gpytorch.kernels.ScaleKernel(gpytorch.kernels.RBFKernel())\n",
    "\n",
    "    def forward(self, x):\n",
    "        mean_x = self.mean_module(x)\n",
    "        covar_x = self.covar_module(x)\n",
    "        return gpytorch.distributions.MultivariateNormal(mean_x, covar_x)\n",
    "\n",
    "    \n",
    "class TestKISSGPAdditiveClassification(unittest.TestCase):\n",
    "\n",
    "    def __init__(self):\n",
    "        self.model: Optional[GPClassificationModel] = None\n",
    "        self.criterion: Optional[torch.nn.MSELoss] = None\n",
    "        self.optimizer: Optional[torch.optim.SGD] = None\n",
    "        \n",
    "        \n",
    "    def reset(self, train_x, train_y, likelihood):\n",
    "        self.model = ExactGPModel(train_x, train_y, likelihood)\n",
    "        self.mll = gpytorch.mlls.VariationalELBO(likelihood, self.model, num_data=len(train_y))\n",
    "        self.optimizer = optim.Adam(self.model.parameters(), lr=0.15)\n",
    "        \n",
    "    def test_kissgp_classification_error(self):\n",
    "        # Find optimal model hyperparameters\n",
    "#        likelihood = gpytorch.likelihoods.GaussianLikelihood()\n",
    "      #  self.model = ExactGPModel(train_x, train_y, likelihood)\n",
    "        self.model.train()\n",
    "        likelihood.train()\n",
    "        self.mll = gpytorch.mlls.ExactMarginalLogLikelihood(likelihood, self.model)\n",
    "        \n",
    "        for i in range(training_iter):\n",
    "            self.optimizer.zero_grad()\n",
    "            output = self.model(train_x)\n",
    "            loss = -mll(output, train_y)\n",
    "            loss.backward()\n",
    "            print('Iter %d/%d - Loss: %.3f   noise: %.3f' % (\n",
    "                i + 1, training_iter, loss.item(),\n",
    "                self.model.likelihood.noise.item()\n",
    "            ))\n",
    "            self.optimizer.step()\n",
    "        \n",
    "        test_preds = self.model(train_x).mean.ge(0.5).float()\n",
    "        mean_abs_error = torch.mean(torch.abs(train_y - test_preds) / 2)\n",
    "        print(mean_abs_error.item())\n",
    "        \n",
    "\n",
    "        "
   ]
  },
  {
   "cell_type": "code",
   "execution_count": 519,
   "metadata": {},
   "outputs": [],
   "source": [
    "linrun = TestKISSGPAdditiveClassification()"
   ]
  },
  {
   "cell_type": "code",
   "execution_count": 520,
   "metadata": {},
   "outputs": [
    {
     "name": "stdout",
     "output_type": "stream",
     "text": [
      "Iter 1/10 - Loss: 1.412   noise: 0.693\n",
      "Iter 2/10 - Loss: 1.412   noise: 0.693\n",
      "Iter 3/10 - Loss: 1.412   noise: 0.693\n",
      "Iter 4/10 - Loss: 1.412   noise: 0.693\n",
      "Iter 5/10 - Loss: 1.412   noise: 0.693\n",
      "Iter 6/10 - Loss: 1.412   noise: 0.693\n",
      "Iter 7/10 - Loss: 1.412   noise: 0.693\n",
      "Iter 8/10 - Loss: 1.412   noise: 0.693\n",
      "Iter 9/10 - Loss: 1.412   noise: 0.693\n",
      "Iter 10/10 - Loss: 1.412   noise: 0.693\n",
      "0.3379385769367218\n"
     ]
    }
   ],
   "source": [
    "linrun.reset(train_x, train_y, likelihood)\n",
    "linrun.test_kissgp_classification_error()"
   ]
  },
  {
   "cell_type": "code",
   "execution_count": 521,
   "metadata": {},
   "outputs": [],
   "source": [
    "# Get into evaluation (predictive posterior) mode\n",
    "model.eval()\n",
    "likelihood.eval()\n",
    "\n",
    "# Test points are regularly spaced along [0,1]\n",
    "# Make predictions by feeding model through likelihood\n",
    "with torch.no_grad(), gpytorch.settings.fast_pred_var():\n",
    "    test_x = torch.linspace(0, 1, 20)\n",
    "    observed_pred = likelihood(model(test_x))\n",
    "    observed_pred\n",
    "    \n",
    "    "
   ]
  },
  {
   "cell_type": "code",
   "execution_count": 522,
   "metadata": {},
   "outputs": [
    {
     "data": {
      "image/png": "[encoded data removed]",
      "text/plain": [
       "<Figure size 288x216 with 1 Axes>"
      ]
     },
     "metadata": {
      "needs_background": "light"
     },
     "output_type": "display_data"
    }
   ],
   "source": [
    "with torch.no_grad():\n",
    "    # Initialize plot\n",
    "    f, ax = plt.subplots(1, 1, figsize=(4, 3))\n",
    "\n",
    "    # Get upper and lower confidence bounds\n",
    "    lower, upper = observed_pred.confidence_region()\n",
    "    # Plot training data as black stars\n",
    "    ax.plot(train_x.numpy(), train_y.numpy(), 'k*')\n",
    "    # Plot predictive means as blue line\n",
    "    ax.plot(test_x.numpy(), observed_pred.mean.numpy(), 'b')\n",
    "    # Shade between the lower and upper confidence bounds\n",
    " #   ax.fill_between(test_x.numpy(), lower.numpy(), upper.numpy(), alpha=0.5)\n",
    "    ax.set_ylim([-3, 3])\n",
    "    ax.legend(['Observed Data', 'Mean', 'Confidence'])"
   ]
  },
  {
   "cell_type": "code",
   "execution_count": 523,
   "metadata": {},
   "outputs": [
    {
     "name": "stdout",
     "output_type": "stream",
     "text": [
      "MultivariateNormal(loc: torch.Size([20]))\n"
     ]
    }
   ],
   "source": [
    "print(observed_pred)"
   ]
  },
  {
   "cell_type": "code",
   "execution_count": 510,
   "metadata": {},
   "outputs": [
    {
     "data": {
      "text/plain": [
       "tensor([-0.0448,  0.2906,  0.5835,  0.8052,  0.9348,  0.9608,  0.8815,  0.7053,\n",
       "         0.4500,  0.1422, -0.1852, -0.4952, -0.7520, -0.9251, -0.9944, -0.9535,\n",
       "        -0.8103, -0.5858, -0.3108, -0.0200])"
      ]
     },
     "execution_count": 510,
     "metadata": {},
     "output_type": "execute_result"
    }
   ],
   "source": [
    "observed_pred.loc"
   ]
  },
  {
   "cell_type": "code",
   "execution_count": null,
   "metadata": {},
   "outputs": [],
   "source": []
  },
  {
   "cell_type": "code",
   "execution_count": null,
   "metadata": {},
   "outputs": [],
   "source": []
  }
 ],
 "metadata": {
  "kernelspec": {
   "display_name": "Python 3",
   "language": "python",
   "name": "python3"
  },
  "language_info": {
   "codemirror_mode": {
    "name": "ipython",
    "version": 3
   },
   "file_extension": ".py",
   "mimetype": "text/x-python",
   "name": "python",
   "nbconvert_exporter": "python",
   "pygments_lexer": "ipython3",
   "version": "3.7.4"
  }
 },
 "nbformat": 4,
 "nbformat_minor": 2
}
